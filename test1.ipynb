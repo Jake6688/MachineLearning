{
 "cells": [
  {
   "cell_type": "markdown",
   "metadata": {},
   "source": [
    "$$ S= \\int_{t_2}^{t_1} L(q,\\dot q,t) \\,dt $$\n",
    "\n",
    "Where L is a scalar defined as the lagrangian of the system with Kinetic energy T and Potential engery V:\n",
    "\n",
    "$$ L = T - V $$\n",
    "\n",
    "We can derive its euqation of motion by solving the associated Euler-Lagrange Equation.\n",
    "\n",
    "$$ \\frac{d}{dt} \\frac{\\partial L}{\\partial \\dot q} - \\frac{\\partial L}{\\partial q} = 0 $$\n",
    "\n",
    "Consider the rate of change of momentum equals the generalized force, in the case of simple pendulum system. The pendulum can be described by one general coordinate, $\\theta$ since it moves in a plane in space.\n",
    "\n",
    "Recall its Kenetic and Potential are given by:\n",
    "\n",
    "$$ T = \\frac{1}{2} mv^2 = \\frac{1}{2} m l^2 ω^2 = \\frac{1}{2} m l^2 \\dot \\theta^2$$\n",
    "\n",
    "$$ V = mgl(1 - cos(\\theta))$$\n",
    "\n",
    "$$ L = \\frac{1}{2} m l^2 \\dot \\theta^2 - mgl(1 - cos(\\theta))$$\n",
    "\n",
    "Equation must be applied for each degree of freedom, in this case only one degree offreedom, $q_1 = θ$:\n",
    "\n",
    "$$\\frac{\\partial L}{\\partial \\dot \\theta} = ml^2 \\theta$$\n",
    "\n",
    "$$\\frac{d}{dt}\\frac{\\partial L}{\\partial \\dot \\theta} = ml^2 \\dot \\theta$$\n",
    "\n",
    "and,\n",
    "\n",
    "$$\\frac{\\partial L}{\\partial \\theta} =-mglsin(\\theta)$$\n",
    "\n",
    "see Euler-Lagrange reduces to,\n",
    "\n",
    "$$ ml^2 \\dot \\theta - (-mglsin(\\theta)) = 0 $$\n",
    "\n",
    "$$ \\dot \\theta + \\frac{g}{l}sin(\\theta) = 0 $$\n",
    "\n",
    "We see the homogenous newtonian differential formulation of pendulum in small angle:\n",
    "\n",
    "$$ \\dot \\theta + \\frac{g}{l}\\theta = 0 $$\n",
    "\n",
    "The action principle is independent of the coordinates of the system.\n",
    "\n",
    "To form a Lagrangian view of a system,\n",
    "\n",
    "1. identify the constraints of the system."
   ]
  },
  {
   "cell_type": "markdown",
   "metadata": {},
   "source": []
  }
 ],
 "metadata": {
  "kernelspec": {
   "display_name": "Python 3",
   "language": "python",
   "name": "python3"
  },
  "language_info": {
   "name": "python",
   "version": "3.11.5"
  }
 },
 "nbformat": 4,
 "nbformat_minor": 2
}
