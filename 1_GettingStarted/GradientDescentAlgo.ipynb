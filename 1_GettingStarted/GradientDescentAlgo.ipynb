{
 "cells": [
  {
   "cell_type": "markdown",
   "metadata": {},
   "source": [
    "# Gradient Descent Algorithm\n",
    "\n",
    "$$\n",
    "w_{next} = w -  \\alpha \\frac{\\partial J(w,b)}{\\partial w}\n",
    "$$\n",
    "$$\n",
    "b_{next} = b -  \\alpha \\frac{\\partial J(w,b)}{\\partial b}\n",
    "$$\n",
    "where $\\alpha$ is defined to be the learning rate, parameters $w$, $b$ are updated simultaneously.  \n",
    "\n",
    "The gradient is defined as:\n",
    "\n",
    "$$\n",
    "\\frac{\\partial J(w,b)}{\\partial w}  = \\frac{1}{m} \\sum\\limits_{i = 0}^{m-1} (f_{w,b}(x^{(i)}) - y^{(i)})x^{(i)}\n",
    "$$\n",
    "$$\n",
    "\\frac{\\partial J(w,b)}{\\partial b}  = \\frac{1}{m} \\sum\\limits_{i = 0}^{m-1} (f_{w,b}(x^{(i)}) - y^{(i)})\n",
    "$$"
   ]
  },
  {
   "cell_type": "markdown",
   "metadata": {},
   "source": []
  }
 ],
 "metadata": {
  "language_info": {
   "name": "python"
  }
 },
 "nbformat": 4,
 "nbformat_minor": 2
}
