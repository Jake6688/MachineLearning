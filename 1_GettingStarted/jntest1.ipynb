{
 "cells": [
  {
   "cell_type": "markdown",
   "metadata": {},
   "source": [
    "In computational learning theory, a learning algorithm (or learner) $A$ is an algorithm that chooses a hypothesis $h$ (which is a function) $( h: X \\to Y )$, where $( X )$ is the input space and $( Y )$ is the target space, from the hypothesis space $( H )$.\n",
    "\n",
    "$Training set (X = input/features, Y = output/target) \\rightarrow Learning \\space Algorithm(A) \\rightarrow Hypothesis(h)$\n",
    "\n",
    "Where the hypothesis is a function:\n",
    "\n",
    "$h_{w,b}(X) = wX+b$\n",
    "\n"
   ]
  }
 ],
 "metadata": {
  "language_info": {
   "name": "python"
  }
 },
 "nbformat": 4,
 "nbformat_minor": 2
}
