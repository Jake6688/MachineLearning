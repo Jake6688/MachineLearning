{
 "cells": [
  {
   "cell_type": "markdown",
   "metadata": {},
   "source": [
    "# Linear Regression\n",
    "\n",
    "In [computational learning theory](https://eliassi.org/COLTSurveyArticle.pdf), a learning algorithm (or learner) \n",
    "$A$ is an algorithm that chooses a hypothesis $h$ (which is a function) $( h: X \\to Y )$, where $( X )$ \n",
    "is the input space and $( Y )$ is the target space, from the hypothesis space $( H )$.\n",
    "Consider the following: \n",
    "\n",
    "Where the hypothesis is a function:\n",
    "$$ f_{w,b}(x^{(i)}) = wx^{(i)} + b \\tag{1} $$\n",
    "\n",
    "Such is a Univariate linear regression"
   ]
  },
  {
   "cell_type": "markdown",
   "metadata": {},
   "source": [
    "# Cost Function\n",
    "\n",
    "<div style=\"text-align: center;\">\n",
    "    <img src=\"cost_function.png\" alt=\"My Image\" width=\"300\"/>\n",
    "</div>\n",
    "\n",
    "Prediction using $f$ on $i$-th training feature $x^{(i)}$, is $\\hat{y}$\n",
    "$$ f_{w,b}(x^{(i)}) = \\hat{y} = wx^{(i)} + b \\tag{1}$$\n",
    "\n",
    "$$ J(w, b) = \\frac{1}{2m} \\sum_{i=1}^{m} \\left( \\hat{y} - y^{(i)} \\right)^2 $$\n",
    "\n",
    "$$ J(w, b) = \\frac{1}{2m} \\sum_{i=1}^{m} \\left( f_{w,b}(x^{(i)}) - y^{(i)} \\right)^2 $$\n",
    "\n",
    "Where m is the number of training examples"
   ]
  },
  {
   "cell_type": "markdown",
   "metadata": {},
   "source": []
  }
 ],
 "metadata": {
  "kernelspec": {
   "display_name": "Python 3",
   "language": "python",
   "name": "python3"
  },
  "language_info": {
   "codemirror_mode": {
    "name": "ipython",
    "version": 3
   },
   "file_extension": ".py",
   "mimetype": "text/x-python",
   "name": "python",
   "nbconvert_exporter": "python",
   "pygments_lexer": "ipython3",
   "version": "3.11.5"
  }
 },
 "nbformat": 4,
 "nbformat_minor": 2
}
